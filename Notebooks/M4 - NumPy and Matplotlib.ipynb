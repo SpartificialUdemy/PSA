{
  "nbformat": 4,
  "nbformat_minor": 0,
  "metadata": {
    "colab": {
      "provenance": []
    },
    "kernelspec": {
      "name": "python3",
      "display_name": "Python 3"
    },
    "language_info": {
      "name": "python"
    }
  },
  "cells": [
    {
      "cell_type": "markdown",
      "source": [
        "# Introduction to NumPy and Matplotlib\n",
        "\n",
        "---"
      ],
      "metadata": {
        "id": "tZX3zoDXuC-v"
      }
    },
    {
      "cell_type": "markdown",
      "source": [
        "### 1) Import the libraries"
      ],
      "metadata": {
        "id": "u8mL3HRX-mTf"
      }
    },
    {
      "cell_type": "code",
      "source": [
        "import numpy as np\n",
        "import matplotlib.pyplot as plt"
      ],
      "metadata": {
        "id": "kou3jdgz-VIr"
      },
      "execution_count": null,
      "outputs": []
    },
    {
      "cell_type": "markdown",
      "source": [
        "### 2) Convert a list into an numpy array"
      ],
      "metadata": {
        "id": "cLnNj-NvCHF2"
      }
    },
    {
      "cell_type": "code",
      "source": [
        "# Create list of some numbers\n",
        "lst = [1, 2, 3, 4, 6, 9, 0]\n",
        "print(type(lst))\n",
        "\n",
        "# Convert that list into an array\n",
        "arr = np.array(lst)\n",
        "print(type(arr))"
      ],
      "metadata": {
        "colab": {
          "base_uri": "https://localhost:8080/"
        },
        "id": "8QPTZBsrCJwc",
        "outputId": "bcb19c0b-ee9c-4353-d8bc-709d32882d95"
      },
      "execution_count": null,
      "outputs": [
        {
          "output_type": "stream",
          "name": "stdout",
          "text": [
            "<class 'list'>\n",
            "<class 'numpy.ndarray'>\n"
          ]
        }
      ]
    },
    {
      "cell_type": "code",
      "source": [
        "# Create a 1D array\n",
        "arr1 = np.array([1, 2, 3, 4, 5])\n",
        "print(arr1)\n",
        "print(type(arr1))"
      ],
      "metadata": {
        "colab": {
          "base_uri": "https://localhost:8080/"
        },
        "id": "CKA4Fr5jCmRw",
        "outputId": "0b4a127a-6034-42d7-c94e-908258241bfd"
      },
      "execution_count": null,
      "outputs": [
        {
          "output_type": "stream",
          "name": "stdout",
          "text": [
            "[1 2 3 4 5]\n",
            "<class 'numpy.ndarray'>\n"
          ]
        }
      ]
    },
    {
      "cell_type": "markdown",
      "source": [
        "### 3) Check Data Type, Dimenensions and Shapes of the array"
      ],
      "metadata": {
        "id": "AoJrQp4SC6xV"
      }
    },
    {
      "cell_type": "code",
      "source": [
        "# Check Data Type of arr1\n",
        "arr1.dtype"
      ],
      "metadata": {
        "colab": {
          "base_uri": "https://localhost:8080/"
        },
        "id": "1ZjitGsxC4iZ",
        "outputId": "cef9307f-39b8-464d-8100-3832e5269350"
      },
      "execution_count": null,
      "outputs": [
        {
          "output_type": "execute_result",
          "data": {
            "text/plain": [
              "dtype('int64')"
            ]
          },
          "metadata": {},
          "execution_count": 9
        }
      ]
    },
    {
      "cell_type": "code",
      "source": [
        "# Check the Dimension of arr1\n",
        "arr1.ndim"
      ],
      "metadata": {
        "colab": {
          "base_uri": "https://localhost:8080/"
        },
        "id": "N8bi00UfDQjw",
        "outputId": "e6d48636-08dd-4d71-821f-32453d1c3d5a"
      },
      "execution_count": null,
      "outputs": [
        {
          "output_type": "execute_result",
          "data": {
            "text/plain": [
              "1"
            ]
          },
          "metadata": {},
          "execution_count": 10
        }
      ]
    },
    {
      "cell_type": "code",
      "source": [
        "# Create a 2D array with 1 row and 5 cols\n",
        "arr2 = np.array([[1, 2, 3, 4, 5]])"
      ],
      "metadata": {
        "id": "uexFGPD6DcZr"
      },
      "execution_count": null,
      "outputs": []
    },
    {
      "cell_type": "code",
      "source": [
        "# Check the ndim for arr2\n",
        "arr2.ndim"
      ],
      "metadata": {
        "colab": {
          "base_uri": "https://localhost:8080/"
        },
        "id": "8r2VJXo7DmCv",
        "outputId": "7227dfeb-2b06-4345-de2f-cb2d1b726f3b"
      },
      "execution_count": null,
      "outputs": [
        {
          "output_type": "execute_result",
          "data": {
            "text/plain": [
              "2"
            ]
          },
          "metadata": {},
          "execution_count": 12
        }
      ]
    },
    {
      "cell_type": "code",
      "source": [
        "# Check the shape of arr1 and arr2\n",
        "print(arr1.shape)\n",
        "print(arr2.shape)"
      ],
      "metadata": {
        "colab": {
          "base_uri": "https://localhost:8080/"
        },
        "id": "gBPNym_3Dpy1",
        "outputId": "ffed1fc1-7f9c-42ea-fcff-9152cb958b35"
      },
      "execution_count": null,
      "outputs": [
        {
          "output_type": "stream",
          "name": "stdout",
          "text": [
            "(5,)\n",
            "(1, 5)\n"
          ]
        }
      ]
    },
    {
      "cell_type": "code",
      "source": [
        "# Create a 2D array of shape 3x3 with values in between 1 to 9 (must be float)\n",
        "arr3 = np.array([[1, 2, 3],\n",
        "                 [4, 5, 6],\n",
        "                 [7, 8, 9]], dtype=np.float32)"
      ],
      "metadata": {
        "id": "14K3t0aeD5j2"
      },
      "execution_count": null,
      "outputs": []
    },
    {
      "cell_type": "code",
      "source": [
        "print(arr3)"
      ],
      "metadata": {
        "colab": {
          "base_uri": "https://localhost:8080/"
        },
        "id": "S6km9p0KFqUl",
        "outputId": "4cdfb42d-97f9-4741-9a4b-14d4ebe0a9c3"
      },
      "execution_count": null,
      "outputs": [
        {
          "output_type": "stream",
          "name": "stdout",
          "text": [
            "[[1. 2. 3.]\n",
            " [4. 5. 6.]\n",
            " [7. 8. 9.]]\n"
          ]
        }
      ]
    },
    {
      "cell_type": "code",
      "source": [
        "# Check the shape of arr3, ndim, dtype\n",
        "print(arr3.shape)\n",
        "print(arr3.ndim)\n",
        "print(arr3.dtype)"
      ],
      "metadata": {
        "colab": {
          "base_uri": "https://localhost:8080/"
        },
        "id": "AzNkL7P0EUG_",
        "outputId": "67adc98f-10d6-4fa6-ce5d-8873252d7c14"
      },
      "execution_count": null,
      "outputs": [
        {
          "output_type": "stream",
          "name": "stdout",
          "text": [
            "(3, 3)\n",
            "2\n",
            "float32\n"
          ]
        }
      ]
    },
    {
      "cell_type": "markdown",
      "source": [
        "### 4) Different ways to create numpy arrays"
      ],
      "metadata": {
        "id": "ppdCm5zpFGo_"
      }
    },
    {
      "cell_type": "code",
      "source": [
        "# 1) Arange\n",
        "arange_arr = np.arange(1, 10, 1)"
      ],
      "metadata": {
        "id": "zeUdqSjcFLBv"
      },
      "execution_count": null,
      "outputs": []
    },
    {
      "cell_type": "code",
      "source": [
        "# Reshape this array into 3x3\n",
        "reshaped_array = arange_arr.reshape(3, 3)\n",
        "reshaped_array"
      ],
      "metadata": {
        "colab": {
          "base_uri": "https://localhost:8080/"
        },
        "id": "h_4wqOXgFgNa",
        "outputId": "26946964-5fc4-4e5c-9a3c-46ce13e9a82e"
      },
      "execution_count": null,
      "outputs": [
        {
          "output_type": "execute_result",
          "data": {
            "text/plain": [
              "array([[1, 2, 3],\n",
              "       [4, 5, 6],\n",
              "       [7, 8, 9]])"
            ]
          },
          "metadata": {},
          "execution_count": 24
        }
      ]
    },
    {
      "cell_type": "code",
      "source": [
        "# Check the dtype of reshaped_array\n",
        "reshaped_array.dtype"
      ],
      "metadata": {
        "colab": {
          "base_uri": "https://localhost:8080/"
        },
        "id": "pq-Jv9mzGBCL",
        "outputId": "06bb1a1d-5669-48ad-bb0a-a9973db73532"
      },
      "execution_count": null,
      "outputs": [
        {
          "output_type": "execute_result",
          "data": {
            "text/plain": [
              "dtype('int64')"
            ]
          },
          "metadata": {},
          "execution_count": 25
        }
      ]
    },
    {
      "cell_type": "code",
      "source": [
        "# Convert this into float32 data type\n",
        "reshaped_array_float = reshaped_array.astype(np.float32)\n",
        "reshaped_array_float.dtype"
      ],
      "metadata": {
        "colab": {
          "base_uri": "https://localhost:8080/"
        },
        "id": "i16Y0XFtFxbb",
        "outputId": "534552a9-970c-4a55-82e9-d861264b0264"
      },
      "execution_count": null,
      "outputs": [
        {
          "output_type": "execute_result",
          "data": {
            "text/plain": [
              "dtype('float32')"
            ]
          },
          "metadata": {},
          "execution_count": 27
        }
      ]
    },
    {
      "cell_type": "code",
      "source": [
        "# 2) Linspace\n",
        "linspace_array = np.linspace(1, 10, 5)\n",
        "linspace_array"
      ],
      "metadata": {
        "colab": {
          "base_uri": "https://localhost:8080/"
        },
        "id": "YqCA76UXGYhF",
        "outputId": "f9770a6b-3918-4629-a9ea-ca946b5f2d1e"
      },
      "execution_count": null,
      "outputs": [
        {
          "output_type": "execute_result",
          "data": {
            "text/plain": [
              "array([ 1.  ,  3.25,  5.5 ,  7.75, 10.  ])"
            ]
          },
          "metadata": {},
          "execution_count": 36
        }
      ]
    },
    {
      "cell_type": "code",
      "source": [
        "# 3) Zeros\n",
        "array_of_zeros = np.zeros((2, 2))\n",
        "print(array_of_zeros)"
      ],
      "metadata": {
        "colab": {
          "base_uri": "https://localhost:8080/"
        },
        "id": "n8EWuPW6G-4L",
        "outputId": "8f47ea28-e6c4-4386-d1ac-1984ab56c6e1"
      },
      "execution_count": null,
      "outputs": [
        {
          "output_type": "stream",
          "name": "stdout",
          "text": [
            "[[0. 0.]\n",
            " [0. 0.]]\n"
          ]
        }
      ]
    },
    {
      "cell_type": "code",
      "source": [
        "# 4) Ones\n",
        "arrays_of_ones = np.ones((3, 3))\n",
        "print(arrays_of_ones)"
      ],
      "metadata": {
        "colab": {
          "base_uri": "https://localhost:8080/"
        },
        "id": "G3YFsj5LHH6H",
        "outputId": "1298d289-4e83-47f4-f1bb-9ec6227613ff"
      },
      "execution_count": null,
      "outputs": [
        {
          "output_type": "stream",
          "name": "stdout",
          "text": [
            "[[1. 1. 1.]\n",
            " [1. 1. 1.]\n",
            " [1. 1. 1.]]\n"
          ]
        }
      ]
    },
    {
      "cell_type": "markdown",
      "source": [
        "### 5) Create arrays of random numbers"
      ],
      "metadata": {
        "id": "wKVCcCL4H1Zy"
      }
    },
    {
      "cell_type": "code",
      "source": [
        "# 1) Array of random numbers between 0 (incl) to 1 (excl)\n",
        "np.random.rand(2)"
      ],
      "metadata": {
        "colab": {
          "base_uri": "https://localhost:8080/"
        },
        "id": "NPki0tqsH30e",
        "outputId": "87c8446c-5b31-40c2-a4ca-d879b57e423e"
      },
      "execution_count": null,
      "outputs": [
        {
          "output_type": "execute_result",
          "data": {
            "text/plain": [
              "array([0.49150573, 0.62611315])"
            ]
          },
          "metadata": {},
          "execution_count": 44
        }
      ]
    },
    {
      "cell_type": "code",
      "source": [
        "# 2) Array of random integers between two limits\n",
        "np.random.randint(low=0, high=11, size=(2, 2))"
      ],
      "metadata": {
        "colab": {
          "base_uri": "https://localhost:8080/"
        },
        "id": "A3TEys5dIjjE",
        "outputId": "8aecf222-45b8-4bb8-c60b-7ace6f91bc1d"
      },
      "execution_count": null,
      "outputs": [
        {
          "output_type": "execute_result",
          "data": {
            "text/plain": [
              "array([[ 5, 10],\n",
              "       [ 6,  5]])"
            ]
          },
          "metadata": {},
          "execution_count": 49
        }
      ]
    },
    {
      "cell_type": "code",
      "source": [
        "# 3) Fix an array with the same type of randomness\n",
        "np.random.seed(42)\n",
        "np.random.randint(low=0, high=11, size=(2, 2))"
      ],
      "metadata": {
        "colab": {
          "base_uri": "https://localhost:8080/"
        },
        "id": "EygCEFc_JE9u",
        "outputId": "6115b4c2-9aaa-44f2-c045-5cbb6eff4327"
      },
      "execution_count": null,
      "outputs": [
        {
          "output_type": "execute_result",
          "data": {
            "text/plain": [
              "array([[ 6,  3],\n",
              "       [10,  7]])"
            ]
          },
          "metadata": {},
          "execution_count": 56
        }
      ]
    },
    {
      "cell_type": "markdown",
      "source": [
        "### 6) Create the first visualization using matplotlib.pyplot"
      ],
      "metadata": {
        "id": "lWtvi2J9Jzhj"
      }
    },
    {
      "cell_type": "code",
      "source": [
        "# Create a data to geenrate a line plot\n",
        "x = np.linspace(-10, 10, 150)\n",
        "y = x**2\n",
        "\n",
        "# Create a line plot of a quadratic curve using the above data\n",
        "plt.plot(x, y)\n",
        "plt.show()"
      ],
      "metadata": {
        "colab": {
          "base_uri": "https://localhost:8080/",
          "height": 430
        },
        "id": "tb73awqHJ6DL",
        "outputId": "069123eb-56b7-43cb-85ad-d04ebc114dda"
      },
      "execution_count": null,
      "outputs": [
        {
          "output_type": "display_data",
          "data": {
            "text/plain": [
              "<Figure size 640x480 with 1 Axes>"
            ],
            "image/png": "[encoded data removed]"
          },
          "metadata": {}
        }
      ]
    },
    {
      "cell_type": "markdown",
      "source": [
        "### 7) Customize the plots"
      ],
      "metadata": {
        "id": "9mwc6jx2LZwH"
      }
    },
    {
      "cell_type": "code",
      "source": [
        "# Create a data to geenrate a line plot\n",
        "x = np.linspace(-10, 10, 150)\n",
        "y = x**2\n",
        "\n",
        "# Create a line plot of a quadratic curve using the above data\n",
        "plt.figure(figsize=(8, 3))\n",
        "plt.grid()\n",
        "plt.plot(x, y)\n",
        "plt.title('Visualizing the Quadratic Data', color='maroon', weight='bold', fontsize=15)\n",
        "plt.xlabel('X - Values Created using Linspace', color='m', fontsize=11)\n",
        "plt.ylabel('y - Values', color='m', fontsize=11)\n",
        "plt.show()"
      ],
      "metadata": {
        "colab": {
          "base_uri": "https://localhost:8080/",
          "height": 336
        },
        "id": "1-ofKuQdLbhm",
        "outputId": "c43c7e1a-7774-457b-fd40-31d97a9b93d6"
      },
      "execution_count": null,
      "outputs": [
        {
          "output_type": "display_data",
          "data": {
            "text/plain": [
              "<Figure size 800x300 with 1 Axes>"
            ],
            "image/png": "[encoded data removed]"
          },
          "metadata": {}
        }
      ]
    }
  ]
}
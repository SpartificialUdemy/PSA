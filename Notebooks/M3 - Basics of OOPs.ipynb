{
  "nbformat": 4,
  "nbformat_minor": 0,
  "metadata": {
    "colab": {
      "provenance": []
    },
    "kernelspec": {
      "name": "python3",
      "display_name": "Python 3"
    },
    "language_info": {
      "name": "python"
    }
  },
  "cells": [
    {
      "cell_type": "markdown",
      "source": [
        "# Build a Rocket using Object Oriented Programming\n",
        "\n",
        "---"
      ],
      "metadata": {
        "id": "Q94Jlc7--UWW"
      }
    },
    {
      "cell_type": "markdown",
      "source": [
        "* Classes are part of a programming paradigm called **object-oriented programming**.\n",
        "* Object-oriented programming, or OOP for short, focuses on building reusable blocks of code called classes.\n",
        "* When you want to use a class in one of your programs, you make an **object** from that class.\n",
        "* This is where the phrase **\"object-oriented\"** comes from.\n",
        "* Python itself is not tied to object-oriented programming, but you will be using objects in most or all of your Python projects.\n",
        "* In order to understand classes, you have to understand some of the language that is used in OOP."
      ],
      "metadata": {
        "id": "4MY-gvUnB1V9"
      }
    },
    {
      "cell_type": "markdown",
      "source": [
        "### General Terminologies"
      ],
      "metadata": {
        "id": "53LYrFtLCt-r"
      }
    },
    {
      "cell_type": "markdown",
      "source": [
        "A **class** is a body of code that defines the **attributes** and **behaviors** required to accurately model something you need for your program. You can model something from the real world, such as a rocket ship or a guitar string, or you can model something from a virtual world such as a rocket in a game, or a set of physical laws for a game engine."
      ],
      "metadata": {
        "id": "A_O8mvCaCixC"
      }
    },
    {
      "cell_type": "markdown",
      "source": [
        "An **attribute** is a piece of information. In code, an attribute is just a variable that is part of a class."
      ],
      "metadata": {
        "id": "TW0uruvICjdd"
      }
    },
    {
      "cell_type": "markdown",
      "source": [
        "A **behavior** is an action that is defined within a class. These are made up of **methods**, which are just functions that are defined for the class."
      ],
      "metadata": {
        "id": "N65cMXqxCmQW"
      }
    },
    {
      "cell_type": "markdown",
      "source": [
        "An **object** is a particular instance of a class. An object has a certain set of values for all of the attributes (variables) in the class. You can have as many objects as you want for any one class."
      ],
      "metadata": {
        "id": "VfR2lREzCrwy"
      }
    },
    {
      "cell_type": "markdown",
      "source": [
        "### 1) Build a simplest class that does noting"
      ],
      "metadata": {
        "id": "GZeetGK2FFKY"
      }
    },
    {
      "cell_type": "code",
      "source": [
        "class Rocket():\n",
        "  pass"
      ],
      "metadata": {
        "id": "ewfHxRDCFJ7m"
      },
      "execution_count": 2,
      "outputs": []
    },
    {
      "cell_type": "markdown",
      "source": [
        "### 2) Add attributes to this class\n",
        "\n",
        "* Add x and y coordinates and set both of them to 0."
      ],
      "metadata": {
        "id": "KEG1YL5lH2aA"
      }
    },
    {
      "cell_type": "code",
      "source": [
        "# Building a class with some attributes\n",
        "class Rocket():\n",
        "\n",
        "  # Use special method in python to initialize the attributes from this class\n",
        "  def __init__(self):\n",
        "    self.x = 0\n",
        "    self.y = 0"
      ],
      "metadata": {
        "id": "3jNooX5HIG_Y"
      },
      "execution_count": 11,
      "outputs": []
    },
    {
      "cell_type": "code",
      "source": [
        "# Create an object of the class Rocket\n",
        "rocket1 = Rocket()"
      ],
      "metadata": {
        "id": "S-RUZxUGI_wz"
      },
      "execution_count": 12,
      "outputs": []
    },
    {
      "cell_type": "code",
      "source": [
        "# Extract the values of x and y for that rocket1\n",
        "print(f'X coordinate for rocket1:- {rocket1.x}')\n",
        "print(f'Y coordinate for rocket1:- {rocket1.y}')"
      ],
      "metadata": {
        "colab": {
          "base_uri": "https://localhost:8080/"
        },
        "id": "9VKYdSIuJUCb",
        "outputId": "bf143778-6b6e-4449-833d-1e31c6fc8f1b"
      },
      "execution_count": 13,
      "outputs": [
        {
          "output_type": "stream",
          "name": "stdout",
          "text": [
            "X coordinate for rocket1:- 0\n",
            "Y coordinate for rocket1:- 0\n"
          ]
        }
      ]
    },
    {
      "cell_type": "markdown",
      "source": [
        "### 3) Add a method that will allow your Rocket to move up"
      ],
      "metadata": {
        "id": "Q0hktZWxMT9O"
      }
    },
    {
      "cell_type": "code",
      "source": [
        "# Building a class with some attributes\n",
        "class Rocket():\n",
        "\n",
        "  # Use special method in python to initialize the attributes from this class\n",
        "  def __init__(self):\n",
        "    self.x = 0\n",
        "    self.y = 0\n",
        "\n",
        "  # Add a method that will make your rocket move up by 1 unit whenever it is called\n",
        "  def move_up(self):\n",
        "    self.y += 1      # self.y = self.y + 1"
      ],
      "metadata": {
        "id": "SYqx1mGKMXHo"
      },
      "execution_count": 14,
      "outputs": []
    },
    {
      "cell_type": "code",
      "source": [
        "# Make orion rocket\n",
        "orion = Rocket()\n",
        "print(f'Current Position of Orion:- {(orion.x, orion.y)}')\n",
        "\n",
        "# Move orion up by one unit\n",
        "orion.move_up()\n",
        "print(f'Orion updated Position:- {(orion.x, orion.y)}')\n",
        "\n",
        "# Move orion up by one more unit\n",
        "orion.move_up()\n",
        "print(f'Orion updated Position after it had moved one unit up:- {(orion.x, orion.y)}')"
      ],
      "metadata": {
        "colab": {
          "base_uri": "https://localhost:8080/"
        },
        "id": "muLTV2ZjM7T8",
        "outputId": "fbf3b5a8-8292-4f70-9892-131c4dd1d83b"
      },
      "execution_count": 15,
      "outputs": [
        {
          "output_type": "stream",
          "name": "stdout",
          "text": [
            "Current Position of Orion:- (0, 0)\n",
            "Orion updated Position:- (0, 1)\n",
            "Orion updated Position after it had moved one unit up:- (0, 2)\n"
          ]
        }
      ]
    },
    {
      "cell_type": "markdown",
      "source": [
        "### 4) Build more rocket objects"
      ],
      "metadata": {
        "id": "CwSe0nF0Van0"
      }
    },
    {
      "cell_type": "code",
      "source": [
        "# Create two more rocket objects\n",
        "orchid = Rocket()\n",
        "rohan = Rocket()"
      ],
      "metadata": {
        "id": "umqin13jVdEd"
      },
      "execution_count": 26,
      "outputs": []
    },
    {
      "cell_type": "code",
      "source": [
        "# Print what exactly is this orion, orchid, rohan\n",
        "for obj in (orion, orchid, rohan):\n",
        "  print(obj)"
      ],
      "metadata": {
        "colab": {
          "base_uri": "https://localhost:8080/"
        },
        "id": "lbXOlqKwVocz",
        "outputId": "b8054da3-3df4-48bc-ff17-f6a2eb99eaca"
      },
      "execution_count": 27,
      "outputs": [
        {
          "output_type": "stream",
          "name": "stdout",
          "text": [
            "<__main__.Rocket object at 0x7cad1ae08a90>\n",
            "<__main__.Rocket object at 0x7cad1ae0a2c0>\n",
            "<__main__.Rocket object at 0x7cad1ae08910>\n"
          ]
        }
      ]
    },
    {
      "cell_type": "code",
      "source": [
        "# Print the current locations for orion, orchid, rohan\n",
        "for obj, name in (zip((orion, orchid, rohan), ('Orion', 'Orchid', 'Rohan'))):\n",
        "  print(f'The {name} is at {(obj.x, obj.y)}')"
      ],
      "metadata": {
        "colab": {
          "base_uri": "https://localhost:8080/"
        },
        "id": "jdI1vdlzWHdT",
        "outputId": "e870ccd1-69f5-438a-a22d-1063df6a1398"
      },
      "execution_count": 28,
      "outputs": [
        {
          "output_type": "stream",
          "name": "stdout",
          "text": [
            "The Orion is at (0, 2)\n",
            "The Orchid is at (0, 0)\n",
            "The Rohan is at (0, 0)\n"
          ]
        }
      ]
    },
    {
      "cell_type": "code",
      "source": [
        "# Make orchid move up by one unit\n",
        "orchid.move_up()"
      ],
      "metadata": {
        "id": "6RTLsX_4Wm9K"
      },
      "execution_count": 29,
      "outputs": []
    },
    {
      "cell_type": "code",
      "source": [
        "# Print the new locations\n",
        "for obj, name in (zip((orion, orchid, rohan), ('Orion', 'Orchid', 'Rohan'))):\n",
        "  print(f'The {name} is at {(obj.x, obj.y)}')"
      ],
      "metadata": {
        "colab": {
          "base_uri": "https://localhost:8080/"
        },
        "id": "OeWQBjZwW1yU",
        "outputId": "4d8e3303-3280-4b14-f1e8-225836e66910"
      },
      "execution_count": 30,
      "outputs": [
        {
          "output_type": "stream",
          "name": "stdout",
          "text": [
            "The Orion is at (0, 2)\n",
            "The Orchid is at (0, 1)\n",
            "The Rohan is at (0, 0)\n"
          ]
        }
      ]
    },
    {
      "cell_type": "markdown",
      "source": [
        "### 5) Customize the existing Rocket Class"
      ],
      "metadata": {
        "id": "wblSQQJhZzy1"
      }
    },
    {
      "cell_type": "code",
      "source": [
        "# Building a class with some attributes\n",
        "class Rocket():\n",
        "\n",
        "  # Use special method in python to initialize the attributes from this class\n",
        "  def __init__(self, x=0, y=0):\n",
        "    self.x = x\n",
        "    self.y = y\n",
        "\n",
        "  # Add a method that will make your rocket move in either of up, down, left and right with whatever units\n",
        "  def move_rocket(self, x_increment=0, y_increment=1):\n",
        "    self.x += x_increment\n",
        "    self.y += y_increment"
      ],
      "metadata": {
        "id": "_fe5AlyGZ2B4"
      },
      "execution_count": 75,
      "outputs": []
    },
    {
      "cell_type": "code",
      "source": [
        "rocket2 = Rocket(10, 0)\n",
        "print(f'{rocket2.x, rocket2.y}')"
      ],
      "metadata": {
        "colab": {
          "base_uri": "https://localhost:8080/"
        },
        "id": "Ss8ekRdVaPqJ",
        "outputId": "c3d02aec-77f8-428a-8042-32bbafdcb6d4"
      },
      "execution_count": 76,
      "outputs": [
        {
          "output_type": "stream",
          "name": "stdout",
          "text": [
            "(10, 0)\n"
          ]
        }
      ]
    },
    {
      "cell_type": "code",
      "source": [
        "rocket3 = Rocket()\n",
        "print(f'{rocket3.x, rocket3.y}')"
      ],
      "metadata": {
        "colab": {
          "base_uri": "https://localhost:8080/"
        },
        "id": "QPIUE54MabvU",
        "outputId": "e3208a2c-601b-4e2f-b4d2-a792a0922ac3"
      },
      "execution_count": 77,
      "outputs": [
        {
          "output_type": "stream",
          "name": "stdout",
          "text": [
            "(0, 0)\n"
          ]
        }
      ]
    },
    {
      "cell_type": "code",
      "source": [
        "rocket2.move_rocket(0, 100)\n",
        "print(f'{rocket2.x, rocket2.y}')"
      ],
      "metadata": {
        "colab": {
          "base_uri": "https://localhost:8080/"
        },
        "id": "43iqU_68bSLK",
        "outputId": "0ac054d1-f850-46d7-9df1-2cd873528360"
      },
      "execution_count": 78,
      "outputs": [
        {
          "output_type": "stream",
          "name": "stdout",
          "text": [
            "(10, 100)\n"
          ]
        }
      ]
    },
    {
      "cell_type": "code",
      "source": [
        "rocket3.move_rocket(-10, 0)\n",
        "print(f'{rocket3.x, rocket3.y}')"
      ],
      "metadata": {
        "colab": {
          "base_uri": "https://localhost:8080/"
        },
        "id": "ttPE9FbHbghC",
        "outputId": "5607872c-515a-47f0-8842-7a5586bb721c"
      },
      "execution_count": 79,
      "outputs": [
        {
          "output_type": "stream",
          "name": "stdout",
          "text": [
            "(-10, 0)\n"
          ]
        }
      ]
    },
    {
      "cell_type": "markdown",
      "source": [
        "### 6) Add another method to the Rocket Class that calculates the distance between two Rockets"
      ],
      "metadata": {
        "id": "dRjbsTu2dXVl"
      }
    },
    {
      "cell_type": "code",
      "source": [
        "# Building a class with some attributes\n",
        "class Rocket():\n",
        "\n",
        "  # Use special method in python to initialize the attributes from this class\n",
        "  def __init__(self, x=0, y=0):\n",
        "    self.x = x\n",
        "    self.y = y\n",
        "\n",
        "  # Add a method that will make your rocket move in either of up, down, left and right with whatever units\n",
        "  def move_rocket(self, x_increment=0, y_increment=1):\n",
        "    self.x += x_increment\n",
        "    self.y += y_increment\n",
        "\n",
        "  # Calculate Eucledian distance between two rockets\n",
        "  def get_distance(self, other_rocket):\n",
        "    x_diff = self.x - other_rocket.x\n",
        "    y_diff = self.y - other_rocket.y\n",
        "    distance = (x_diff**2 + y_diff**2)**0.5\n",
        "    return round(distance, 3)"
      ],
      "metadata": {
        "id": "eWf6w9XidbeH"
      },
      "execution_count": 81,
      "outputs": []
    },
    {
      "cell_type": "code",
      "source": [
        "rocket4 = Rocket(-10, 0)\n",
        "rocket5 = Rocket(0, 0)\n",
        "print(f'{rocket4.x, rocket4.y}')\n",
        "print(f'{rocket5.x, rocket5.y}')"
      ],
      "metadata": {
        "colab": {
          "base_uri": "https://localhost:8080/"
        },
        "id": "L1aTKXvceto1",
        "outputId": "29c7b2c8-3e42-4a9b-fcca-855b20f101ce"
      },
      "execution_count": 82,
      "outputs": [
        {
          "output_type": "stream",
          "name": "stdout",
          "text": [
            "(-10, 0)\n",
            "(0, 0)\n"
          ]
        }
      ]
    },
    {
      "cell_type": "code",
      "source": [
        "# Distance of rocket4 wrt rocket5\n",
        "distance_45 = rocket5.get_distance(rocket4)\n",
        "print(f'The distance between rocket4 wrt rocket5 is:- {distance_45} (3dp)')"
      ],
      "metadata": {
        "colab": {
          "base_uri": "https://localhost:8080/"
        },
        "id": "iZr3z5-te_PM",
        "outputId": "64680fd0-2fa9-4d7b-9ee0-4b5f349be037"
      },
      "execution_count": 83,
      "outputs": [
        {
          "output_type": "stream",
          "name": "stdout",
          "text": [
            "The distance between rocket4 wrt rocket5 is:- 10.0 (3dp)\n"
          ]
        }
      ]
    },
    {
      "cell_type": "code",
      "source": [
        "# Move rocket4 to (-15, 10)\n",
        "rocket4.move_rocket(-5, 10)\n",
        "\n",
        "#Move rocket5 to (0, 15)\n",
        "rocket5.move_rocket(0, 15)\n",
        "\n",
        "# Get the new locations of rocket4 and rocket5\n",
        "print(f'{rocket4.x, rocket4.y}')\n",
        "print(f'{rocket5.x, rocket5.y}')"
      ],
      "metadata": {
        "colab": {
          "base_uri": "https://localhost:8080/"
        },
        "id": "pOoXwricfbgg",
        "outputId": "26c1379e-c261-43f9-a1cb-7c8d2f782822"
      },
      "execution_count": 84,
      "outputs": [
        {
          "output_type": "stream",
          "name": "stdout",
          "text": [
            "(-15, 10)\n",
            "(0, 15)\n"
          ]
        }
      ]
    },
    {
      "cell_type": "code",
      "source": [
        "((-15)**2 + 5**2)**0.5"
      ],
      "metadata": {
        "colab": {
          "base_uri": "https://localhost:8080/"
        },
        "id": "nFlaLuNkf7rd",
        "outputId": "1b60ac31-053c-4be7-f7a7-327b6affdb8f"
      },
      "execution_count": 87,
      "outputs": [
        {
          "output_type": "execute_result",
          "data": {
            "text/plain": [
              "15.811388300841896"
            ]
          },
          "metadata": {},
          "execution_count": 87
        }
      ]
    },
    {
      "cell_type": "code",
      "source": [
        "# New distance of rocket4 wrt rocket5\n",
        "distance_45 = rocket5.get_distance(rocket4)\n",
        "print(f'The distance between rocket4 wrt rocket5 is:- {distance_45} (3dp)')"
      ],
      "metadata": {
        "colab": {
          "base_uri": "https://localhost:8080/"
        },
        "id": "x0n67HQFf2Na",
        "outputId": "5ace58c1-c44e-4d11-8f0a-07dcae1eb22e"
      },
      "execution_count": 85,
      "outputs": [
        {
          "output_type": "stream",
          "name": "stdout",
          "text": [
            "The distance between rocket4 wrt rocket5 is:- 15.811 (3dp)\n"
          ]
        }
      ]
    }
  ]
}